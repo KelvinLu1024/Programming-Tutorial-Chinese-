{
 "metadata": {
  "name": "",
  "signature": "sha256:26cce947cb58a488a7c7621ccd227933b40a816eae22fbc34f8b5b5b7499db60"
 },
 "nbformat": 3,
 "nbformat_minor": 0,
 "worksheets": [
  {
   "cells": [
    {
     "cell_type": "heading",
     "level": 1,
     "metadata": {},
     "source": [
      "\u7b80\u660e\u7f16\u7a0b\u5165\u95e8 \u2014\u2014 \u4ecepython\u5f00\u59cb"
     ]
    },
    {
     "cell_type": "heading",
     "level": 2,
     "metadata": {},
     "source": [
      "\u524d\u8a00"
     ]
    },
    {
     "cell_type": "markdown",
     "metadata": {},
     "source": [
      "\u8fd9\u4efd\u6559\u7a0b\u65e8\u5728\u7b80\u660e\u627c\u8981\u5730\u4ecb\u7ecd\u600e\u4e48\u4f7f\u7528Python\u8fdb\u884c\u7b80\u5355\u7684\u7f16\u7a0b\uff0c\u4ee5\u53ca\u7f16\u7a0b\u4e2d\u5e38\u89c1\u7684\u6982\u5ff5\u3002\n",
      "\n",
      "\n",
      "\u8fd9\u4efd\u6559\u7a0b\u4e0d\u662f\uff1a\n",
      "\n",
      "* Python \u6559\u7a0b\n",
      "* \u9762\u5411\u5bf9\u8c61\u7f16\u7a0b\u7684\u6559\u7a0b\n",
      "* \u7f16\u7a0b\u53c2\u8003\u4e66\n",
      "* \u7f16\u7a0b\u4ece\u5165\u95e8\u5230\u7cbe\u901a\n",
      "\n",
      "\n",
      "\u8fd9\u4efd\u6559\u7a0b\u4e0e\u5176\u4ed6\u6559\u7a0b\u7684\u4e3b\u8981\u533a\u522b\u6709\n",
      "\n",
      "1. \u7740\u91cd\u901a\u7528\u7684\u5e38\u7528\u7684\u7f16\u7a0b\u601d\u60f3\uff1b\n",
      "2. \u4ee3\u7801\u6bd4\u6587\u5b57\u591a\uff1b\n",
      "3. \u975e\u5e38\u7b80\u77ed\uff1b\n",
      "4. \u5c3d\u53ef\u80fd\u5c11\u4e0b\u5b9a\u4e49\uff1b\n",
      "\n",
      "\n",
      "\u6211\u5199\u8fd9\u4efd\u6559\u7a0b\u7684\u76ee\u7684\u662f\u60f3\u8bc1\u660e\u81ea\u5df1\u7684\u51e0\u4e2a\u89c2\u70b9\uff1a\n",
      "\n",
      "* \u7f16\u7a0b\u7684\u65f6\u5019\uff0c\u4e86\u89e3\u4e00\u4e2a\u4e1c\u897f\u7684\u884c\u4e3a\u6bd4\u8bb0\u4f4f\u5b83\u7684\u660e\u786e\u5b9a\u4e49\u66f4\u52a0\u91cd\u8981\u3002\n",
      "* \u8fd0\u7b97\u7b26\u4f18\u5148\u7ea7\u662f\u5386\u53f2\u9057\u7559\u7684\u7cdf\u7c95\u3002\n",
      "* "
     ]
    },
    {
     "cell_type": "heading",
     "level": 2,
     "metadata": {},
     "source": [
      "\u503c"
     ]
    },
    {
     "cell_type": "markdown",
     "metadata": {},
     "source": [
      "\u2018\u503c\u2019\u662f\u7f16\u7a0b\u65f6\u5904\u7406\u7684\u5bf9\u8c61\u3002\u503c\u53ef\u4ee5\u662f\u6570\u5b57\uff0c\u5e03\u5c14\u503c\uff08\u771f\u6216\u5047\uff09\uff0c\u6587\u672c\uff08\u6216\u8005\u53eb\u5b57\u7b26\u4e32\uff09\uff0c\u5217\u8868\uff0c\u51fd\u6570\u7b49\u7b49\u3002"
     ]
    },
    {
     "cell_type": "markdown",
     "metadata": {},
     "source": [
      "\u4e00\u4e2a\u6570\u5b57"
     ]
    },
    {
     "cell_type": "code",
     "collapsed": false,
     "input": [
      "1"
     ],
     "language": "python",
     "metadata": {},
     "outputs": [
      {
       "metadata": {},
       "output_type": "pyout",
       "prompt_number": 1,
       "text": [
        "1"
       ]
      }
     ],
     "prompt_number": 1
    },
    {
     "cell_type": "markdown",
     "metadata": {},
     "source": [
      "\u5e03\u5c14\u503c\u771f"
     ]
    },
    {
     "cell_type": "code",
     "collapsed": false,
     "input": [
      "True"
     ],
     "language": "python",
     "metadata": {},
     "outputs": [
      {
       "metadata": {},
       "output_type": "pyout",
       "prompt_number": 2,
       "text": [
        "True"
       ]
      }
     ],
     "prompt_number": 2
    },
    {
     "cell_type": "markdown",
     "metadata": {},
     "source": [
      "\u5e03\u5c14\u503c\u5047"
     ]
    },
    {
     "cell_type": "code",
     "collapsed": false,
     "input": [
      "False"
     ],
     "language": "python",
     "metadata": {},
     "outputs": [
      {
       "metadata": {},
       "output_type": "pyout",
       "prompt_number": 3,
       "text": [
        "False"
       ]
      }
     ],
     "prompt_number": 3
    },
    {
     "cell_type": "markdown",
     "metadata": {},
     "source": [
      "\u4e00\u4e2a\u5b57\u7b26\u4e32\uff08\u6587\u672c\u5c31\u662f\u201c\u4e00\u4e32\u5b57\u7b26\u201d\uff09"
     ]
    },
    {
     "cell_type": "code",
     "collapsed": false,
     "input": [
      "'Hello world!'"
     ],
     "language": "python",
     "metadata": {},
     "outputs": [
      {
       "metadata": {},
       "output_type": "pyout",
       "prompt_number": 4,
       "text": [
        "'Hello world!'"
       ]
      }
     ],
     "prompt_number": 4
    },
    {
     "cell_type": "markdown",
     "metadata": {},
     "source": [
      "\u4e00\u4e2a\u5217\u8868"
     ]
    },
    {
     "cell_type": "code",
     "collapsed": false,
     "input": [
      "[1, 2, 3, 4]"
     ],
     "language": "python",
     "metadata": {},
     "outputs": [
      {
       "metadata": {},
       "output_type": "pyout",
       "prompt_number": 5,
       "text": [
        "[1, 2, 3, 4]"
       ]
      }
     ],
     "prompt_number": 5
    },
    {
     "cell_type": "markdown",
     "metadata": {},
     "source": [
      "\u53c8\u4e00\u4e2a\u5217\u8868"
     ]
    },
    {
     "cell_type": "code",
     "collapsed": false,
     "input": [
      "['hi', 'hello', 'how are you']"
     ],
     "language": "python",
     "metadata": {},
     "outputs": [
      {
       "metadata": {},
       "output_type": "pyout",
       "prompt_number": 6,
       "text": [
        "['hi', 'hello', 'how are you']"
       ]
      }
     ],
     "prompt_number": 6
    },
    {
     "cell_type": "markdown",
     "metadata": {},
     "source": [
      "\u53c8\u53c8\u4e00\u4e2a\u5217\u8868"
     ]
    },
    {
     "cell_type": "code",
     "collapsed": false,
     "input": [
      "[1, [2, 3], 'Hi!']"
     ],
     "language": "python",
     "metadata": {},
     "outputs": [
      {
       "metadata": {},
       "output_type": "pyout",
       "prompt_number": 7,
       "text": [
        "[1, [2, 3], 'Hi!']"
       ]
      }
     ],
     "prompt_number": 7
    },
    {
     "cell_type": "markdown",
     "metadata": {},
     "source": [
      "\u5728\u8bb8\u591a\u7f16\u7a0b\u8bed\u8a00\uff08\u5305\u62ecpython\uff09\u4e2d\uff0c\u6211\u4eec\u53ef\u4ee5\u7528\u7c7b\u4f3c\u6570\u5b66\u516c\u5f0f\u7684\u5f62\u5f0f\u8ba1\u7b97\u6570\u5b57\u3002"
     ]
    },
    {
     "cell_type": "code",
     "collapsed": false,
     "input": [
      "1 + 1"
     ],
     "language": "python",
     "metadata": {},
     "outputs": [
      {
       "metadata": {},
       "output_type": "pyout",
       "prompt_number": 8,
       "text": [
        "2"
       ]
      }
     ],
     "prompt_number": 8
    },
    {
     "cell_type": "markdown",
     "metadata": {},
     "source": [
      "\u8fd9\u6bb5\u7a0b\u5e8f\u4f7f\u7528\u4e86\u4e24\u4e2a\u503c\uff081\uff09\u521b\u9020\u4e86\u4e00\u4e2a\u65b0\u7684\u503c\uff082\uff09\u3002\u50cf\u8fd9\u6837\uff0c\u6784\u9020\u65b0\u7684\u503c\u7684\u7a0b\u5e8f\u7247\u6bb5\u88ab\u79f0\u4f5c__\u8868\u8fbe\u5f0f__\u3002\u6784\u9020\u5f97\u5230\u7684\u503c\u88ab\u79f0\u4f5c\u8be5\u8868\u8fbe\u5f0f\u7684\u503c\u3002\u8868\u8fbe\u5f0f\u7684\u4f7f\u7528\u65b9\u6cd5\u4e0e\u5b83\u4eec\u7684\u503c\u4e00\u6837\uff0c\u6bd4\u5982\uff1a"
     ]
    },
    {
     "cell_type": "code",
     "collapsed": false,
     "input": [
      "(1 + 1) + 1"
     ],
     "language": "python",
     "metadata": {},
     "outputs": [
      {
       "metadata": {},
       "output_type": "pyout",
       "prompt_number": 9,
       "text": [
        "3"
       ]
      }
     ],
     "prompt_number": 9
    },
    {
     "cell_type": "markdown",
     "metadata": {},
     "source": [
      "\u5f62\u5f0f\u7c7b\u4f3c\u6570\u5b66\u516c\u5f0f\u7684\u8868\u8fbe\u5f0f\u662f__\u7b97\u672f\u8868\u8fbe\u5f0f__\u3002\u6570\u5b57\uff0c\u5e03\u5c14\u503c\uff0c\u5b57\u7b26\u4e32\u548c\u5217\u8868\u662f\u7279\u6b8a\u7684\u8868\u8fbe\u5f0f\uff0c\u5b83\u4eec\u7684\u503c\u662f\u81ea\u8eab\u3002\n",
      "\n",
      "\u7b97\u672f\u8868\u8fbe\u5f0f\u4e2d\u7684\u7279\u6b8a\u7b26\u53f7\u88ab\u79f0\u4f5c__\u64cd\u4f5c\u7b26__\u3002\u5e38\u7528\u7684\u64cd\u4f5c\u7b26\u5305\u62ec\uff1a\n",
      " \n",
      "* \u56db\u5219\u8fd0\u7b97\uff08`+`\uff0c`-`\uff0c`*`\uff0c`/`\uff09\u3002\n",
      "* \u6bd4\u8f83\u64cd\u4f5c\u7b26\uff08`>`\uff0c`<`\uff0c`<=`\uff0c`>=`\uff0c`==`\uff08\u7b49\u4e8e\uff09\uff0c`!=`\uff08\u4e0d\u7b49\u4e8e\uff09\uff0c`is`\uff08\u5728\u5927\u591a\u6570\u60c5\u51b5\u4e0b\u76f8\u5f53\u4e8e`==`\uff09\uff0c`is not`\uff08\u5728\u5927\u591a\u6570\u60c5\u51b5\u4e0b\u76f8\u5f53\u4e8e`!=`\uff09\uff09\n",
      "* \u5e03\u5c14\u64cd\u4f5c\u7b26\uff08`and`\uff0c`or`\uff0c`not`\uff09\u3002"
     ]
    },
    {
     "cell_type": "code",
     "collapsed": false,
     "input": [
      "1 < 2"
     ],
     "language": "python",
     "metadata": {},
     "outputs": [
      {
       "metadata": {},
       "output_type": "pyout",
       "prompt_number": 10,
       "text": [
        "True"
       ]
      }
     ],
     "prompt_number": 10
    },
    {
     "cell_type": "code",
     "collapsed": false,
     "input": [
      "(1 < 2) or (3 > 4)"
     ],
     "language": "python",
     "metadata": {},
     "outputs": [
      {
       "metadata": {},
       "output_type": "pyout",
       "prompt_number": 11,
       "text": [
        "True"
       ]
      }
     ],
     "prompt_number": 11
    },
    {
     "cell_type": "code",
     "collapsed": false,
     "input": [
      "not ((1 < 2) or (3 > 4))"
     ],
     "language": "python",
     "metadata": {},
     "outputs": [
      {
       "metadata": {},
       "output_type": "pyout",
       "prompt_number": 12,
       "text": [
        "False"
       ]
      }
     ],
     "prompt_number": 12
    },
    {
     "cell_type": "markdown",
     "metadata": {},
     "source": [
      "`==` \u5224\u65ad\u4e24\u4e2a\u5bf9\u8c61\u662f\u5426\u76f8\u540c\uff0c\u800c `is` \u5224\u65ad\u4e24\u4e2a\u503c\u662f\u5426\u662f\u540c\u4e00\u4e2a\u503c\uff08\u5373\u4e0d\u53ef\u533a\u5206\uff09\u3002\u5bf9\u4e8e\u6570\u5b57\u3001\u5e03\u5c14\u503c\u548c\u5b57\u7b26\u4e32\u7b49\u5185\u5bb9\u4e0d\u53ef\u53d8\u7684\u503c\uff0c\u201c\u76f8\u540c\u201d\u5c31\u662f\u201c\u4e0d\u53ef\u533a\u5206\u201d\u3002\u4f46\u662f\u5217\u8868\u7684\u5185\u5bb9\u662f\u53ef\u53d8\u7684\u3002\u5173\u4e8e\u6539\u53d8\u5217\u8868\u7684\u5185\u5bb9\uff0c\u5728\u5217\u8868\u4e00\u8282\u6709\u8be6\u7ec6\u7684\u8bf4\u660e\u3002"
     ]
    },
    {
     "cell_type": "code",
     "collapsed": false,
     "input": [
      "[] == []"
     ],
     "language": "python",
     "metadata": {},
     "outputs": [
      {
       "metadata": {},
       "output_type": "pyout",
       "prompt_number": 3,
       "text": [
        "True"
       ]
      }
     ],
     "prompt_number": 3
    },
    {
     "cell_type": "code",
     "collapsed": false,
     "input": [
      "[] is []"
     ],
     "language": "python",
     "metadata": {},
     "outputs": [
      {
       "metadata": {},
       "output_type": "pyout",
       "prompt_number": 5,
       "text": [
        "False"
       ]
      }
     ],
     "prompt_number": 5
    },
    {
     "cell_type": "markdown",
     "metadata": {},
     "source": [
      "_\u7ec3\u4e60_\n",
      "\n",
      "(1\uff09\u5c0f\u827e\u6709123\u5143\uff0c\u5c0f\u6ce2\u6709456\u5143\uff0c\u8bf7\u95ee\u4ed6\u4eec\u603b\u5171\u6709\u591a\u5c11\u5143\uff1f\u5982\u679c\u5c0f\u6ce2\u6709567\u5143\uff0c\u4ed6\u4eec\u603b\u5171\u6709\u591a\u5c11\u94b1\uff1f\u5982\u679c\u5c0f\u6ce2\u6709678\u5143\uff0c\u4ed6\u4eec\u603b\u5171\u6709\u591a\u5c11\u94b1\uff1f"
     ]
    },
    {
     "cell_type": "heading",
     "level": 2,
     "metadata": {},
     "source": [
      "\u53d8\u91cf"
     ]
    },
    {
     "cell_type": "markdown",
     "metadata": {},
     "source": [
      "\u53d8\u91cf\u662f\u7ed9\u503c\u8d77\u7684\u540d\u5b57\u3002\u6bd4\u5982\uff1a"
     ]
    },
    {
     "cell_type": "code",
     "collapsed": false,
     "input": [
      "a = 123"
     ],
     "language": "python",
     "metadata": {},
     "outputs": [],
     "prompt_number": 13
    },
    {
     "cell_type": "markdown",
     "metadata": {},
     "source": [
      "\u8fd9\u6bb5\u7a0b\u5e8f\u5ff5\u4f5c\u201c\u628a\u503c `123` \u8d4b\u7ed9\u53d8\u91cf `a` \u201d\u3002\u73b0\u5728\uff0c`a` \u53ef\u4ee5\u5f53\u6210\u503c `123` \u6765\u4f7f\u7528\u4e86\u3002"
     ]
    },
    {
     "cell_type": "code",
     "collapsed": false,
     "input": [
      "a"
     ],
     "language": "python",
     "metadata": {},
     "outputs": [
      {
       "metadata": {},
       "output_type": "pyout",
       "prompt_number": 14,
       "text": [
        "123"
       ]
      }
     ],
     "prompt_number": 14
    },
    {
     "cell_type": "code",
     "collapsed": false,
     "input": [
      "a + 456"
     ],
     "language": "python",
     "metadata": {},
     "outputs": [
      {
       "metadata": {},
       "output_type": "pyout",
       "prompt_number": 15,
       "text": [
        "579"
       ]
      }
     ],
     "prompt_number": 15
    },
    {
     "cell_type": "markdown",
     "metadata": {},
     "source": [
      "\u4e0a\u4e00\u6b21\u7ec3\u4e60\uff0c\u73b0\u5728\u53ef\u4ee5\u8fd9\u4e48\u505a\uff1a"
     ]
    },
    {
     "cell_type": "code",
     "collapsed": false,
     "input": [
      "a + 567"
     ],
     "language": "python",
     "metadata": {},
     "outputs": [
      {
       "metadata": {},
       "output_type": "pyout",
       "prompt_number": 16,
       "text": [
        "690"
       ]
      }
     ],
     "prompt_number": 16
    },
    {
     "cell_type": "code",
     "collapsed": false,
     "input": [
      "a + 678"
     ],
     "language": "python",
     "metadata": {},
     "outputs": [
      {
       "metadata": {},
       "output_type": "pyout",
       "prompt_number": 17,
       "text": [
        "801"
       ]
      }
     ],
     "prompt_number": 17
    },
    {
     "cell_type": "markdown",
     "metadata": {},
     "source": [
      "_\u7ecf\u9a8c\u4e4b\u4e00\uff1a\u7528\u53d8\u91cf\u4ee3\u66ff\u91cd\u590d\u51fa\u73b0\u7684\u503c\u3002_"
     ]
    },
    {
     "cell_type": "markdown",
     "metadata": {},
     "source": [
      "\u53d8\u91cf\u53ef\u4ee5\u88ab\u4efb\u610f\u591a\u6b21\u91cd\u65b0\u8d4b\u503c\u3002"
     ]
    },
    {
     "cell_type": "code",
     "collapsed": false,
     "input": [
      "a = a + 1"
     ],
     "language": "python",
     "metadata": {},
     "outputs": [],
     "prompt_number": 18
    },
    {
     "cell_type": "code",
     "collapsed": false,
     "input": [
      "a"
     ],
     "language": "python",
     "metadata": {},
     "outputs": [
      {
       "metadata": {},
       "output_type": "pyout",
       "prompt_number": 19,
       "text": [
        "124"
       ]
      }
     ],
     "prompt_number": 19
    },
    {
     "cell_type": "markdown",
     "metadata": {},
     "source": [
      "\u53d8\u91cf\u4e5f\u662f\u4e00\u79cd\u8868\u8fbe\u5f0f\u3002"
     ]
    },
    {
     "cell_type": "markdown",
     "metadata": {},
     "source": [
      "\u6709\u7684\u8bfb\u8005\u53ef\u80fd\u6ce8\u610f\u5230\u4e86\uff0c `a = 123` \u548c `a = a + 1` \u5e76\u6ca1\u6709\u503c\u3002 `a = 123` \u5728\u7a0b\u5e8f\u8fd0\u884c\u7684\u73af\u5883\u4e2d\u6dfb\u52a0\u4e86\u4e00\u4e2a\u53d8\u91cf\uff0c\u4f7f\u5f97\u540e\u7eed\u8fd0\u884c\u7684\u7a0b\u5e8f\u53ef\u4ee5\u4f7f\u7528 `a` \u3002 `a = a + 1` \u66f4\u65b0\u4e86\u53d8\u91cf `a` \u7684\u503c\u3002\u50cf\u8fd9\u6837\uff0c\u867d\u7136\u6ca1\u6709\u503c\uff0c\u4f46\u662f\u4f1a\u5f71\u54cd\u8fd0\u884c\u73af\u5883\u7684\u7a0b\u5e8f\u7247\u6bb5\uff0c\u88ab\u79f0\u4f5c__\u58f0\u660e__\uff08statement\uff09\u3002\u8fd9\u91cc\u7528\u5230\u7684\u58f0\u660e\u662f__\u8d4b\u503c\u58f0\u660e__\u3002"
     ]
    },
    {
     "cell_type": "heading",
     "level": 2,
     "metadata": {},
     "source": [
      "\u5217\u8868"
     ]
    },
    {
     "cell_type": "markdown",
     "metadata": {},
     "source": [
      "\u6709\u65f6\uff0c\u6211\u4eec\u9700\u8981\u8868\u793a\u51e0\u4e2a\u610f\u4e49\u76f8\u8fd1\u7684\u503c\uff0c\u6bd4\u5982\u4e0a\u4e00\u54687\u5929\u7684\u5e73\u5747\u6c14\u6e29\u3002\u5982\u679c\u7528\u53d8\u91cf\u5b58\u653e\u8fd9\u4e9b\u503c\uff0c\u9700\u89817\u4e2a\u53d8\u91cf\uff08\u8bb8\u591a\u7f16\u7a0b\u8bed\u8a00\u4ece0\u5f00\u59cb\u6570\u6570\uff0c\u4f8b\u5982Python\u3001Java\u548cC\uff09\uff1a"
     ]
    },
    {
     "cell_type": "code",
     "collapsed": false,
     "input": [
      "t0 = 20\n",
      "t1 = 24\n",
      "t2 = 23\n",
      "t3 = 27\n",
      "t4 = 25\n",
      "t5 = 24\n",
      "t6 = 26"
     ],
     "language": "python",
     "metadata": {},
     "outputs": [],
     "prompt_number": 9
    },
    {
     "cell_type": "markdown",
     "metadata": {},
     "source": [
      "\u8fd97\u4e2a\u53d8\u91cf\u9664\u4e86\u6700\u540e\u4e00\u4e2a\u6570\u5b57\u4e0d\u540c\uff0c\u5176\u4f59\u90fd\u76f8\u540c\u3002\u8fd9\u65f6\uff0c\u7528\u5217\u8868\u5b58\u653e\u8fd9\u4e9b\u503c\u4f1a\u66f4\u65b9\u4fbf\u3002"
     ]
    },
    {
     "cell_type": "code",
     "collapsed": false,
     "input": [
      "t = [20, 24, 23, 27, 25, 24, 26]"
     ],
     "language": "python",
     "metadata": {},
     "outputs": [],
     "prompt_number": 10
    },
    {
     "cell_type": "markdown",
     "metadata": {},
     "source": [
      "\u5217\u8868\u7684\u4e00\u90e8\u5206\u53ef\u4ee5\u5f53\u6210\u53d8\u91cf\u4f7f\u7528\uff1a"
     ]
    },
    {
     "cell_type": "code",
     "collapsed": false,
     "input": [
      "t[0]"
     ],
     "language": "python",
     "metadata": {},
     "outputs": [
      {
       "metadata": {},
       "output_type": "pyout",
       "prompt_number": 12,
       "text": [
        "20"
       ]
      }
     ],
     "prompt_number": 12
    },
    {
     "cell_type": "code",
     "collapsed": false,
     "input": [
      "t[0] = 19"
     ],
     "language": "python",
     "metadata": {},
     "outputs": [],
     "prompt_number": 14
    },
    {
     "cell_type": "code",
     "collapsed": false,
     "input": [
      "t[0]"
     ],
     "language": "python",
     "metadata": {},
     "outputs": [
      {
       "metadata": {},
       "output_type": "pyout",
       "prompt_number": 15,
       "text": [
        "19"
       ]
      }
     ],
     "prompt_number": 15
    },
    {
     "cell_type": "markdown",
     "metadata": {},
     "source": [
      "\u9700\u8981\u6ce8\u610f\u7684\u662f\uff0c\u5bf9\u5217\u8868\u7684\u4e00\u90e8\u5206\u8fdb\u884c\u8d4b\u503c\u4f1a\u6539\u53d8\u5217\u8868\u7684\u5185\u5bb9\u3002"
     ]
    },
    {
     "cell_type": "code",
     "collapsed": false,
     "input": [
      "t"
     ],
     "language": "python",
     "metadata": {},
     "outputs": [
      {
       "metadata": {},
       "output_type": "pyout",
       "prompt_number": 16,
       "text": [
        "[19, 24, 23, 27, 25, 24, 26]"
       ]
      }
     ],
     "prompt_number": 16
    },
    {
     "cell_type": "markdown",
     "metadata": {},
     "source": [
      "\u56e0\u6b64\uff0c\u4e24\u4e2a\u770b\u8d77\u6765\u76f8\u540c\u7684\u5217\u8868\u53ef\u80fd\u4e0d\u662f\u540c\u4e00\u4e2a\u503c\u3002"
     ]
    },
    {
     "cell_type": "code",
     "collapsed": false,
     "input": [
      "a = [1]\n",
      "b = [1]"
     ],
     "language": "python",
     "metadata": {},
     "outputs": [],
     "prompt_number": 17
    },
    {
     "cell_type": "code",
     "collapsed": false,
     "input": [
      "a == b"
     ],
     "language": "python",
     "metadata": {},
     "outputs": [
      {
       "metadata": {},
       "output_type": "pyout",
       "prompt_number": 18,
       "text": [
        "True"
       ]
      }
     ],
     "prompt_number": 18
    },
    {
     "cell_type": "code",
     "collapsed": false,
     "input": [
      "a is b"
     ],
     "language": "python",
     "metadata": {},
     "outputs": [
      {
       "metadata": {},
       "output_type": "pyout",
       "prompt_number": 19,
       "text": [
        "False"
       ]
      }
     ],
     "prompt_number": 19
    },
    {
     "cell_type": "markdown",
     "metadata": {},
     "source": [
      "_\u7ecf\u9a8c\u4e4b\u4e8c\uff1a\u7528\u5217\u8868\u4ee3\u66ff\u4e00\u7ec4\u610f\u4e49\u76f8\u4f3c\u7684\u503c\u3002_"
     ]
    },
    {
     "cell_type": "heading",
     "level": 2,
     "metadata": {},
     "source": [
      "\u51fd\u6570"
     ]
    },
    {
     "cell_type": "markdown",
     "metadata": {},
     "source": [
      "\u7ee7\u7eed\u8003\u8651\u4e4b\u524d\u7ec3\u4e60\u7684\u4f8b\u5b50\uff0c\u5047\u8bbe\u73b0\u5728\u5c0f\u827e\u6301\u6709\u7684\u662f\u7f8e\u5143\uff0c\u5c0f\u6ce2\u6301\u6709\u7684\u662f\u6b27\u5143\uff0c\u90a3\u4e48\u4ed6\u4eec\u603b\u5171\u6301\u6709\u7684\u94b1\u76f8\u5f53\u4e8e\u591a\u5c11\u4eba\u6c11\u5e01\u5462\uff1f\uff08\u5047\u8bbe1\u7f8e\u5143=7\u4eba\u6c11\u5e01\uff0c1\u6b27\u5143=10\u4eba\u6c11\u5e01\uff09"
     ]
    },
    {
     "cell_type": "code",
     "collapsed": false,
     "input": [
      "a = 123"
     ],
     "language": "python",
     "metadata": {},
     "outputs": [],
     "prompt_number": 20
    },
    {
     "cell_type": "code",
     "collapsed": false,
     "input": [
      "(a * 7) + (456 * 10)"
     ],
     "language": "python",
     "metadata": {},
     "outputs": [
      {
       "metadata": {},
       "output_type": "pyout",
       "prompt_number": 21,
       "text": [
        "5421"
       ]
      }
     ],
     "prompt_number": 21
    },
    {
     "cell_type": "code",
     "collapsed": false,
     "input": [
      "(a * 7) + (567 * 10)"
     ],
     "language": "python",
     "metadata": {},
     "outputs": [
      {
       "metadata": {},
       "output_type": "pyout",
       "prompt_number": 22,
       "text": [
        "6531"
       ]
      }
     ],
     "prompt_number": 22
    },
    {
     "cell_type": "code",
     "collapsed": false,
     "input": [
      "(a * 7) + (678 * 10)"
     ],
     "language": "python",
     "metadata": {},
     "outputs": [
      {
       "metadata": {},
       "output_type": "pyout",
       "prompt_number": 23,
       "text": [
        "7641"
       ]
      }
     ],
     "prompt_number": 23
    },
    {
     "cell_type": "markdown",
     "metadata": {},
     "source": [
      "\u5229\u7528\u53d8\u91cf\uff0c\u53ef\u4ee5\u8fdb\u4e00\u6b65\u7b80\u5316\u8fd9\u4e9b\u8868\u8fbe\u5f0f\u3002"
     ]
    },
    {
     "cell_type": "code",
     "collapsed": false,
     "input": [
      "b = a * 7"
     ],
     "language": "python",
     "metadata": {},
     "outputs": [],
     "prompt_number": 24
    },
    {
     "cell_type": "code",
     "collapsed": false,
     "input": [
      "c = 10"
     ],
     "language": "python",
     "metadata": {},
     "outputs": [],
     "prompt_number": 25
    },
    {
     "cell_type": "code",
     "collapsed": false,
     "input": [
      "b + (456 * c)"
     ],
     "language": "python",
     "metadata": {},
     "outputs": [
      {
       "metadata": {},
       "output_type": "pyout",
       "prompt_number": 26,
       "text": [
        "5421"
       ]
      }
     ],
     "prompt_number": 26
    },
    {
     "cell_type": "code",
     "collapsed": false,
     "input": [
      "b + (567 * c)"
     ],
     "language": "python",
     "metadata": {},
     "outputs": [
      {
       "metadata": {},
       "output_type": "pyout",
       "prompt_number": 27,
       "text": [
        "6531"
       ]
      }
     ],
     "prompt_number": 27
    },
    {
     "cell_type": "code",
     "collapsed": false,
     "input": [
      "b + (678 * c)"
     ],
     "language": "python",
     "metadata": {},
     "outputs": [
      {
       "metadata": {},
       "output_type": "pyout",
       "prompt_number": 28,
       "text": [
        "7641"
       ]
      }
     ],
     "prompt_number": 28
    },
    {
     "cell_type": "markdown",
     "metadata": {},
     "source": [
      "\u5229\u7528\u51fd\u6570\uff0c\u6211\u4eec\u53ef\u4ee5\u505a\u5f97\u66f4\u597d\u3002\u9996\u5148\uff0c__\u58f0\u660e__\u4e00\u4e2a\u51fd\u6570\u3002"
     ]
    },
    {
     "cell_type": "code",
     "collapsed": false,
     "input": [
      "def f(x):\n",
      "    return (123 * 7) + (x * 10)"
     ],
     "language": "python",
     "metadata": {},
     "outputs": [],
     "prompt_number": 29
    },
    {
     "cell_type": "markdown",
     "metadata": {},
     "source": [
      "\u7136\u540e__\u8c03\u7528__\u8fd9\u4e2a\u51fd\u6570\u3002"
     ]
    },
    {
     "cell_type": "code",
     "collapsed": false,
     "input": [
      "f(456)"
     ],
     "language": "python",
     "metadata": {},
     "outputs": [
      {
       "metadata": {},
       "output_type": "pyout",
       "prompt_number": 30,
       "text": [
        "5421"
       ]
      }
     ],
     "prompt_number": 30
    },
    {
     "cell_type": "markdown",
     "metadata": {},
     "source": [
      "`f(456)`\u7684\u503c\u76f8\u5f53\u4e8e\u6267\u884c`x = 456`\u4e4b\u540e\uff0c`(123 * 7) + (x * 10)`\u7684\u503c\u3002456\u88ab\u79f0\u4f5cf\u7684\u8c03\u7528\u65f6\u7684\u53c2\u6570\uff0c\u6216\u8005__\u5b9e\u9645\u53c2\u6570__\u3002"
     ]
    },
    {
     "cell_type": "code",
     "collapsed": false,
     "input": [
      "f(567)"
     ],
     "language": "python",
     "metadata": {},
     "outputs": [
      {
       "metadata": {},
       "output_type": "pyout",
       "prompt_number": 31,
       "text": [
        "6531"
       ]
      }
     ],
     "prompt_number": 31
    },
    {
     "cell_type": "code",
     "collapsed": false,
     "input": [
      "f(678)"
     ],
     "language": "python",
     "metadata": {},
     "outputs": [
      {
       "metadata": {},
       "output_type": "pyout",
       "prompt_number": 32,
       "text": [
        "7641"
       ]
      }
     ],
     "prompt_number": 32
    },
    {
     "cell_type": "markdown",
     "metadata": {},
     "source": [
      "_\u7ecf\u9a8c\u4e4b\u4e09\uff1a\u7528\u51fd\u6570\u4ee3\u66ff\u91cd\u590d\u51fa\u73b0\u7684\u8868\u8fbe\u5f0f\u3002_"
     ]
    },
    {
     "cell_type": "heading",
     "level": 3,
     "metadata": {},
     "source": [
      "\u51fd\u6570\u58f0\u660e"
     ]
    },
    {
     "cell_type": "code",
     "collapsed": false,
     "input": [
      "def f(x):\n",
      "    return (123 * 7) + (x * 10)"
     ],
     "language": "python",
     "metadata": {},
     "outputs": [],
     "prompt_number": 33
    },
    {
     "cell_type": "markdown",
     "metadata": {},
     "source": [
      "\u4e0e `def` \u540c\u4e00\u884c\u7684 `f` \u662f\u51fd\u6570\u7684\u540d\u5b57\uff0c\u968f\u540e\u7684\u62ec\u53f7\u4e4b\u4e2d\u662f\u51fd\u6570\u7684__\u5f62\u5f0f\u53c2\u6570__\uff08parameter\uff09\uff0c\u5192\u53f7\u4e4b\u540e\u7684\u7a0b\u5e8f\u7247\u6bb5\u662f\u51fd\u6570\u7684__\u4f53__\uff08body\uff09\u3002`return` \u58f0\u660e\u540e\u534a\u622a\u7684\u8868\u8fbe\u5f0f\u662f\u51fd\u6570\u88ab\u8c03\u7528\u65f6\u5f97\u5230\u7684\u503c\uff0c\u88ab\u79f0\u4f5c\u8be5\u51fd\u6570\u7684__\u8fd4\u56de\u503c__\u3002"
     ]
    },
    {
     "cell_type": "markdown",
     "metadata": {},
     "source": [
      "\u51fd\u6570\u7684\u5f62\u5f0f\u53c2\u6570\u53ef\u4ee5\u6709\u96f6\u4e2a\u6216\u591a\u4e2a\uff0c\u5f62\u5f0f\u53c2\u6570\u4e4b\u95f4\u4ee5`,`\u5206\u9694\u3002\u6bd4\u5982\uff1a"
     ]
    },
    {
     "cell_type": "code",
     "collapsed": false,
     "input": [
      "def add(x, y):\n",
      "    return x + y"
     ],
     "language": "python",
     "metadata": {},
     "outputs": [],
     "prompt_number": 34
    },
    {
     "cell_type": "code",
     "collapsed": false,
     "input": [
      "add(1, 2)"
     ],
     "language": "python",
     "metadata": {},
     "outputs": [
      {
       "metadata": {},
       "output_type": "pyout",
       "prompt_number": 35,
       "text": [
        "3"
       ]
      }
     ],
     "prompt_number": 35
    },
    {
     "cell_type": "markdown",
     "metadata": {},
     "source": [
      "\u51fd\u6570\u7684\u4f53\u53ef\u4ee5\u6709\u591a\u4e2a\u8868\u8fbe\u5f0f\u6216\u58f0\u660e\u3002\u6240\u4ee5`f`\u7684\u5b9a\u4e49\u4e5f\u53ef\u4ee5\u662f\u8fd9\u6837\uff1a"
     ]
    },
    {
     "cell_type": "code",
     "collapsed": false,
     "input": [
      "def f(x):\n",
      "    a = 123 * 7\n",
      "    b = 10\n",
      "    return a + (x * b)"
     ],
     "language": "python",
     "metadata": {},
     "outputs": [],
     "prompt_number": 36
    },
    {
     "cell_type": "code",
     "collapsed": false,
     "input": [
      "f(456)"
     ],
     "language": "python",
     "metadata": {},
     "outputs": [
      {
       "metadata": {},
       "output_type": "pyout",
       "prompt_number": 37,
       "text": [
        "5421"
       ]
      }
     ],
     "prompt_number": 37
    },
    {
     "cell_type": "markdown",
     "metadata": {},
     "source": [
      "__\u51fd\u6570\u58f0\u660e__\u7684\u6548\u679c\u662f\u5728\u8fd0\u884c\u73af\u5883\u4e2d\u6dfb\u52a0\u4e00\u4e2a\u53d8\u91cf\uff0c\u5b83\u7684\u503c\u662f\u4e00\u4e2a\u51fd\u6570\u3002"
     ]
    },
    {
     "cell_type": "markdown",
     "metadata": {},
     "source": [
      "\u6211\u4eec\u53ef\u4ee5\u67e5\u770b\u8fd9\u4e2a\u53d8\u91cf\u7684\u503c\u3002"
     ]
    },
    {
     "cell_type": "code",
     "collapsed": false,
     "input": [
      "f"
     ],
     "language": "python",
     "metadata": {},
     "outputs": [
      {
       "metadata": {},
       "output_type": "pyout",
       "prompt_number": 38,
       "text": [
        "<function __main__.f>"
       ]
      }
     ],
     "prompt_number": 38
    },
    {
     "cell_type": "markdown",
     "metadata": {},
     "source": [
      "\u4e5f\u53ef\u4ee5\u6539\u53d8\u8fd9\u4e2a\u53d8\u91cf\u7684\u503c\u3002"
     ]
    },
    {
     "cell_type": "code",
     "collapsed": false,
     "input": [
      "f = 2"
     ],
     "language": "python",
     "metadata": {},
     "outputs": [],
     "prompt_number": 39
    },
    {
     "cell_type": "code",
     "collapsed": false,
     "input": [
      "f"
     ],
     "language": "python",
     "metadata": {},
     "outputs": [
      {
       "metadata": {},
       "output_type": "pyout",
       "prompt_number": 40,
       "text": [
        "2"
       ]
      }
     ],
     "prompt_number": 40
    },
    {
     "cell_type": "heading",
     "level": 3,
     "metadata": {},
     "source": [
      "\u8fd4\u56de\u503c\u4e3aNone\u7684\u51fd\u6570"
     ]
    },
    {
     "cell_type": "markdown",
     "metadata": {},
     "source": [
      "\u5982\u679creturn\u58f0\u660e\u4e0d\u5305\u542b\u8868\u8fbe\u5f0f\uff0c\u90a3\u4e48\u51fd\u6570\u7684\u8fd4\u56de\u503c\u5c06\u662f\u4e00\u4e2a\u7279\u6b8a\u7684\u503c\uff0c`None`\u3002"
     ]
    },
    {
     "cell_type": "code",
     "collapsed": false,
     "input": [
      "def g(x):\n",
      "    return"
     ],
     "language": "python",
     "metadata": {},
     "outputs": [],
     "prompt_number": 41
    },
    {
     "cell_type": "code",
     "collapsed": false,
     "input": [
      "g(456)"
     ],
     "language": "python",
     "metadata": {},
     "outputs": [],
     "prompt_number": 42
    },
    {
     "cell_type": "markdown",
     "metadata": {},
     "source": [
      "\u4e4d\u770b\u4e4b\u4e0b\uff0c`g(456)`\u4f3c\u4e4e\u6ca1\u6709\u503c\u3002\u5176\u5b9e\u662f\u56e0\u4e3a`None`\u8fd9\u4e2a\u503c\u7684\u610f\u4e49\u5c31\u662f\u4ec0\u4e48\u90fd\u6ca1\u6709\uff0c\u6240\u4ee5Python\u4e0d\u4f1a\u663e\u793a\u5b83\uff0c\u5373\u4fbf\u6211\u4eec\u76f4\u63a5\u8fd0\u884c`None`\u3002"
     ]
    },
    {
     "cell_type": "code",
     "collapsed": false,
     "input": [
      "None"
     ],
     "language": "python",
     "metadata": {},
     "outputs": [],
     "prompt_number": 43
    },
    {
     "cell_type": "markdown",
     "metadata": {},
     "source": [
      "\u4f46\u662f\uff0c\u5229\u7528 `is` \uff08\u6216\u8005 `==` \uff09\u64cd\u4f5c\u7b26\uff0c\u6211\u4eec\u80fd\u786e\u5b9a`g(456)`\u7684\u503c\u662fNone\u3002"
     ]
    },
    {
     "cell_type": "code",
     "collapsed": false,
     "input": [
      "g(456) is None"
     ],
     "language": "python",
     "metadata": {},
     "outputs": [
      {
       "metadata": {},
       "output_type": "pyout",
       "prompt_number": 44,
       "text": [
        "True"
       ]
      }
     ],
     "prompt_number": 44
    },
    {
     "cell_type": "markdown",
     "metadata": {},
     "source": [
      "\u9700\u8981\u6ce8\u610f\uff0c\u503c\u4e3aNone\u7684\u51fd\u6570\u8c03\u7528\u770b\u8d77\u6765\u4e0e\u58f0\u660e\u76f8\u4f3c\uff0c\u4f46\u5b83\u4eec\u5b9e\u9645\u4e0a\u662f\u4e0d\u540c\u7684\u3002\u4ee5\u4e0b\u4f8b\u5b50\u53ef\u4ee5\u8bf4\u660e\uff1a"
     ]
    },
    {
     "cell_type": "code",
     "collapsed": false,
     "input": [
      "(a = 1) is None"
     ],
     "language": "python",
     "metadata": {},
     "outputs": [
      {
       "ename": "SyntaxError",
       "evalue": "invalid syntax (<ipython-input-46-4fef3c135307>, line 1)",
       "output_type": "pyerr",
       "traceback": [
        "\u001b[0;36m  File \u001b[0;32m\"<ipython-input-46-4fef3c135307>\"\u001b[0;36m, line \u001b[0;32m1\u001b[0m\n\u001b[0;31m    (a = 1) is None\u001b[0m\n\u001b[0m       ^\u001b[0m\n\u001b[0;31mSyntaxError\u001b[0m\u001b[0;31m:\u001b[0m invalid syntax\n"
       ]
      }
     ],
     "prompt_number": 46
    },
    {
     "cell_type": "heading",
     "level": 3,
     "metadata": {},
     "source": [
      "\u5185\u7f6e\u51fd\u6570"
     ]
    },
    {
     "cell_type": "markdown",
     "metadata": {},
     "source": [
      "Python\u51c6\u5907\u4e86\u5f88\u591a\u5e38\u7528\u7684\u51fd\u6570\uff0c\u6210\u4e3a\u5185\u7f6e\uff08build-in\uff09\u51fd\u6570\u3002\u6bd4\u5982\u51fd\u6570 `max` \uff0c\u5b83\u53ef\u4ee5\u627e\u5230\u5217\u8868\u4e2d\u7684\u6700\u5927\u503c\uff1a"
     ]
    },
    {
     "cell_type": "code",
     "collapsed": false,
     "input": [
      "max([1, 0, 2, 4])"
     ],
     "language": "python",
     "metadata": {},
     "outputs": [
      {
       "metadata": {},
       "output_type": "pyout",
       "prompt_number": 47,
       "text": [
        "4"
       ]
      }
     ],
     "prompt_number": 47
    },
    {
     "cell_type": "markdown",
     "metadata": {},
     "source": [
      "\u53c8\u6bd4\u5982\u6253\u5370\u503c\u7684print\u51fd\u6570\u3002(\u6ce8\u610f\uff1aprint\u7684\u8fd4\u56de\u503c\u662fNone\uff09"
     ]
    },
    {
     "cell_type": "code",
     "collapsed": false,
     "input": [
      "print('Exciting!')"
     ],
     "language": "python",
     "metadata": {},
     "outputs": [
      {
       "output_type": "stream",
       "stream": "stdout",
       "text": [
        "Exciting!\n"
       ]
      }
     ],
     "prompt_number": 48
    },
    {
     "cell_type": "markdown",
     "metadata": {},
     "source": [
      "`print` \u7684\u53c2\u6570\u53ef\u4ee5\u662f\u4efb\u4f55\u503c\u3002"
     ]
    },
    {
     "cell_type": "code",
     "collapsed": false,
     "input": [
      "print(1+1)"
     ],
     "language": "python",
     "metadata": {},
     "outputs": [
      {
       "output_type": "stream",
       "stream": "stdout",
       "text": [
        "2\n"
       ]
      }
     ],
     "prompt_number": 49
    },
    {
     "cell_type": "code",
     "collapsed": false,
     "input": [
      "print(None)"
     ],
     "language": "python",
     "metadata": {},
     "outputs": [
      {
       "output_type": "stream",
       "stream": "stdout",
       "text": [
        "None\n"
       ]
      }
     ],
     "prompt_number": 50
    },
    {
     "cell_type": "code",
     "collapsed": false,
     "input": [
      "print(print)"
     ],
     "language": "python",
     "metadata": {},
     "outputs": [
      {
       "output_type": "stream",
       "stream": "stdout",
       "text": [
        "<built-in function print>\n"
       ]
      }
     ],
     "prompt_number": 23
    },
    {
     "cell_type": "markdown",
     "metadata": {},
     "source": [
      "\u8fd8\u6709\u51fd\u6570 `list.append` \uff0c\u5b83\u53ef\u4ee5\u7ed9\u5217\u8868\u589e\u52a0\u5185\u5bb9\u3002"
     ]
    },
    {
     "cell_type": "code",
     "collapsed": false,
     "input": [
      "ls = []"
     ],
     "language": "python",
     "metadata": {},
     "outputs": [],
     "prompt_number": 25
    },
    {
     "cell_type": "code",
     "collapsed": false,
     "input": [
      "ls"
     ],
     "language": "python",
     "metadata": {},
     "outputs": [
      {
       "metadata": {},
       "output_type": "pyout",
       "prompt_number": 26,
       "text": [
        "[]"
       ]
      }
     ],
     "prompt_number": 26
    },
    {
     "cell_type": "code",
     "collapsed": false,
     "input": [
      "list.append(ls, 'hi')\n",
      "ls"
     ],
     "language": "python",
     "metadata": {},
     "outputs": [
      {
       "metadata": {},
       "output_type": "pyout",
       "prompt_number": 27,
       "text": [
        "['hi']"
       ]
      }
     ],
     "prompt_number": 27
    },
    {
     "cell_type": "markdown",
     "metadata": {},
     "source": [
      "\uff08\u8fd9\u4e2a\u51fd\u6570\u7684\u540d\u5b57\u6bd4\u8f83\u7279\u522b\uff0c\u6709\u4e2a\u524d\u7f00 `list.` \u8fd9\u4ee3\u8868\u4e86\u5b83\u4e0d\u4f46\u662f\u4e00\u4e2a\u51fd\u6570\uff0c\u800c\u4e14\u662flist\u7c7b\u578b\u7684\u65b9\u6cd5\u3002\u8be6\u7ec6\u5185\u5bb9\u8bf7\u53c2\u89c1__\u5206\u95e8\u522b\u7c7b\u7684\u51fd\u6570\u2014\u2014\u65b9\u6cd5__\uff09"
     ]
    },
    {
     "cell_type": "markdown",
     "metadata": {},
     "source": [
      "_\u7ec3\u4e60_\n",
      "\n",
      "\uff081\uff09\u7edd\u5927\u591a\u6570\u7f16\u7a0b\u8bed\u8a00\u90fd\u63d0\u4f9b\u4e86\u65b9\u4fbf\u7684\u67e5\u8be2\u5185\u7f6e\u51fd\u6570\u4f7f\u7528\u65b9\u6cd5\u7684\u9014\u5f84\u3002Python\u63d0\u4f9b\u4e86\u51fd\u6570help\uff0c\u5b83\u80fd\u544a\u8bc9\u4f7f\u7528\u8005\u8bb8\u591a\u51fd\u6570\u7684\u4f7f\u7528\u65b9\u6cd5\uff0c\u8bf7\u5c1d\u8bd5\u8fd0\u884c `help(print)`\u3002"
     ]
    },
    {
     "cell_type": "heading",
     "level": 2,
     "metadata": {},
     "source": [
      "\u5982\u679c\u2026\u2026\u90a3\u4e48\u2026\u2026\u5426\u5219\u2026\u2026"
     ]
    },
    {
     "cell_type": "markdown",
     "metadata": {},
     "source": [
      "__\u6761\u4ef6\u58f0\u660e__\u80fd\u6839\u636e\u5e03\u5c14\u503c\u7684\u771f\u6216\u5047\uff0c\u6267\u884c\u4e0d\u540c\u7684\u64cd\u4f5c\u3002\u6bd4\u5982\uff1a"
     ]
    },
    {
     "cell_type": "code",
     "collapsed": false,
     "input": [
      "if 1 > 2:\n",
      "    print('Whaaaat?')\n",
      "else:\n",
      "    print('OK.')"
     ],
     "language": "python",
     "metadata": {},
     "outputs": [
      {
       "output_type": "stream",
       "stream": "stdout",
       "text": [
        "OK.\n"
       ]
      }
     ],
     "prompt_number": 51
    },
    {
     "cell_type": "markdown",
     "metadata": {},
     "source": [
      "\u6709\u65f6\uff0c\u53ef\u80fd\u7684\u60c5\u51b5\u4e0d\u6b62\u4e24\u79cd\u3002"
     ]
    },
    {
     "cell_type": "code",
     "collapsed": false,
     "input": [
      "def state_of_water(temp):\n",
      "    if temp < 0:\n",
      "        return 'solid'\n",
      "    else:\n",
      "        if temp > 100:\n",
      "            return 'gas'\n",
      "        else:\n",
      "            return 'liquid'"
     ],
     "language": "python",
     "metadata": {},
     "outputs": [],
     "prompt_number": 52
    },
    {
     "cell_type": "markdown",
     "metadata": {},
     "source": [
      "Python\u63d0\u4f9b\u4e86\u4e00\u79cd\u201c\u7f29\u5199\u201d\u3002"
     ]
    },
    {
     "cell_type": "code",
     "collapsed": false,
     "input": [
      "def state_of_water(temp):\n",
      "    if temp < 0:\n",
      "        return 'solid'\n",
      "    elif temp > 100:\n",
      "        return 'gas'\n",
      "    else:\n",
      "        return 'liquid'"
     ],
     "language": "python",
     "metadata": {},
     "outputs": [],
     "prompt_number": 53
    },
    {
     "cell_type": "markdown",
     "metadata": {},
     "source": [
      "_\u7ec3\u4e60_\n",
      "\n",
      "\uff081\uff09\u5b9a\u4e49\u4e00\u4e2a\u51fd\u6570fac\uff0c\u4f7f\u5f97fac(n)\u4e3an\u7684\u9636\u4e58\u3002\uff08\u6ce8\u610f\uff1a0\u7684\u9636\u4e58\u4e3a1\uff0c\u6b63\u6574\u6570n\u7684\u9636\u4e58\u4e3a(n-1)\u7684\u9636\u4e58\u4e0en\u7684\u79ef\uff09"
     ]
    },
    {
     "cell_type": "heading",
     "level": 2,
     "metadata": {},
     "source": [
      "\u6211\u4e0d\u662f\u9488\u5bf9\u8c01\uff0c\u6211\u662f\u8bf4\u5728\u5ea7\u7684\u5404\u4f4d\u2026\u2026"
     ]
    },
    {
     "cell_type": "markdown",
     "metadata": {},
     "source": [
      "\u7ee7\u7eed\u8003\u8651\u4e4b\u524d\u7684\u4f8b\u5b50\uff1a"
     ]
    },
    {
     "cell_type": "code",
     "collapsed": false,
     "input": [
      "def f(x):\n",
      "    a = 123 * 7\n",
      "    b = 10\n",
      "    return a + (x * b)"
     ],
     "language": "python",
     "metadata": {},
     "outputs": [],
     "prompt_number": 28
    },
    {
     "cell_type": "code",
     "collapsed": false,
     "input": [
      "print(f(456))\n",
      "print(f(567))\n",
      "print(f(678))"
     ],
     "language": "python",
     "metadata": {},
     "outputs": [
      {
       "output_type": "stream",
       "stream": "stdout",
       "text": [
        "5421\n",
        "6531\n",
        "7641\n"
       ]
      }
     ],
     "prompt_number": 30
    },
    {
     "cell_type": "markdown",
     "metadata": {},
     "source": [
      "\u5982\u679c\u7528\u53d8\u91cf\u4ee3\u66fff\u7684\u53c2\u6570\u3002"
     ]
    },
    {
     "cell_type": "code",
     "collapsed": false,
     "input": [
      "n = 456\n",
      "print(f(n))\n",
      "n = 567\n",
      "print(f(n))\n",
      "n = 678\n",
      "print(f(n))"
     ],
     "language": "python",
     "metadata": {},
     "outputs": [
      {
       "output_type": "stream",
       "stream": "stdout",
       "text": [
        "5421\n",
        "6531\n",
        "7641\n"
       ]
      }
     ],
     "prompt_number": 56
    },
    {
     "cell_type": "markdown",
     "metadata": {},
     "source": [
      "\u8fd9\u6bb5\u7a0b\u5e8f\u57fa\u672c\u4e0a\u662f\u4e24\u884c\u7a0b\u5e8f\u91cd\u590d\u4e86\u4e09\u6b21\uff0c\u552f\u4e00\u7684\u5dee\u5f02\u662fn\u7684\u503c\u3002\u4f7f\u7528for\u53ef\u4ee5\u6d88\u9664\u8fd9\u79cd\u91cd\u590d\u3002"
     ]
    },
    {
     "cell_type": "code",
     "collapsed": false,
     "input": [
      "for n in [456, 567, 678]:\n",
      "    print(f(n))"
     ],
     "language": "python",
     "metadata": {},
     "outputs": [
      {
       "output_type": "stream",
       "stream": "stdout",
       "text": [
        "5421\n",
        "6531\n",
        "7641\n"
       ]
      }
     ],
     "prompt_number": 57
    },
    {
     "cell_type": "markdown",
     "metadata": {},
     "source": [
      "_\u7ec3\u4e60_\n",
      "\n",
      "\uff081\uff09\u5229\u7528for\uff0c\u8ba1\u7b970 + 1 + 2 + 3 + ... + 7\u3002\n",
      "\n",
      "\uff082\uff09\u5df2\u77e5\u67093\u4e2a\u53d8\u91cfls = [3, 4, 2, 1, 5, 7, 6]\uff0cn = 0\uff0cm = 0\u3002\u5199\u4e00\u6bb5\u7a0b\u5e8f\u4f7f\u5f97n\u4e3als\u4e2d\u6240\u6709\u5c0f\u4e8e4\u7684\u6570\u4e4b\u548c\uff0cm\u4e3als\u4e2d\u6240\u6709\u4e0d\u5c0f\u4e8e4\u7684\u6570\u4e4b\u548c\u3002"
     ]
    },
    {
     "cell_type": "heading",
     "level": 2,
     "metadata": {},
     "source": [
      "\u76f4\u5230\u6709\u4e00\u5929"
     ]
    },
    {
     "cell_type": "markdown",
     "metadata": {},
     "source": [
      "\u8003\u8651\u8fd9\u4e2a\u95ee\u9898\uff1a\u627e\u51fa\u6700\u5c0f\u7684\u81ea\u7136\u6570n\uff0c\u4f7f\u5f97n\u7684\u5e73\u65b9\u5927\u4e8e123\u3002\u4e00\u4e2a\u7b80\u5355\u7684\u65b9\u6cd5\u662f\u4ece\u4e00\u4e2a\u8db3\u591f\u5c0f\u7684n\u5f00\u59cb\u5c1d\u8bd5\u3002while\u58f0\u660e\u53ef\u4ee5\u89e3\u51b3\u8fd9\u7c7b\u95ee\u9898\u3002"
     ]
    },
    {
     "cell_type": "code",
     "collapsed": false,
     "input": [
      "n = 1\n",
      "while (n * n) < 123:\n",
      "    n = n + 1\n",
      "n"
     ],
     "language": "python",
     "metadata": {},
     "outputs": [
      {
       "metadata": {},
       "output_type": "pyout",
       "prompt_number": 58,
       "text": [
        "12"
       ]
      }
     ],
     "prompt_number": 58
    },
    {
     "cell_type": "code",
     "collapsed": false,
     "input": [
      "12 * 12"
     ],
     "language": "python",
     "metadata": {},
     "outputs": [
      {
       "metadata": {},
       "output_type": "pyout",
       "prompt_number": 59,
       "text": [
        "144"
       ]
      }
     ],
     "prompt_number": 59
    },
    {
     "cell_type": "code",
     "collapsed": false,
     "input": [
      "11 * 11"
     ],
     "language": "python",
     "metadata": {},
     "outputs": [
      {
       "metadata": {},
       "output_type": "pyout",
       "prompt_number": 60,
       "text": [
        "121"
       ]
      }
     ],
     "prompt_number": 60
    },
    {
     "cell_type": "markdown",
     "metadata": {},
     "source": [
      "_\u7ec3\u4e60_\n",
      "\n",
      "\uff081\uff09\u5b9a\u4e49\u4e00\u4e2a\u51fd\u6570before\u3002\u4f7f\u5f97before(n)\u7684\u503c\u662f\u5217\u8868[0,1,..,n-1]\u3002\n",
      "\n",
      "\uff082\uff09\u5229\u7528before\uff0c\u91cd\u505a\u4e0a\u4e00\u8282\u7684\u7ec3\u4e60\uff081\uff09\u3002"
     ]
    },
    {
     "cell_type": "heading",
     "level": 2,
     "metadata": {},
     "source": [
      "\u5206\u95e8\u522b\u7c7b\u7684\u51fd\u6570\u2014\u2014\u65b9\u6cd5"
     ]
    },
    {
     "cell_type": "markdown",
     "metadata": {},
     "source": [
      "\u65b9\u6cd5\uff08method\uff09\u662f\u6839\u636e\u503c\u7684\u7c7b\u578b\u5206\u95e8\u522b\u7c7b\u7684\u51fd\u6570\u3002\u6bd4\u5982\u524d\u9762\u51fa\u73b0\u8fc7\u7684 `list.append`\uff0c\u5b83\u662flist\u7c7b\u578b\u7684\u65b9\u6cd5\u3002"
     ]
    },
    {
     "cell_type": "code",
     "collapsed": false,
     "input": [
      "ls = ['hi']\n",
      "list.append(ls, 'hello')\n",
      "ls"
     ],
     "language": "python",
     "metadata": {},
     "outputs": [
      {
       "metadata": {},
       "output_type": "pyout",
       "prompt_number": 32,
       "text": [
        "['hi', 'hello']"
       ]
      }
     ],
     "prompt_number": 32
    },
    {
     "cell_type": "markdown",
     "metadata": {},
     "source": [
      "`list.append` \u7684\u503c\u548c\u4e00\u822c\u7684\u51fd\u6570\u4e0d\u592a\u4e00\u6837\u3002"
     ]
    },
    {
     "cell_type": "code",
     "collapsed": false,
     "input": [
      "list.append"
     ],
     "language": "python",
     "metadata": {},
     "outputs": [
      {
       "metadata": {},
       "output_type": "pyout",
       "prompt_number": 35,
       "text": [
        "<method 'append' of 'list' objects>"
       ]
      }
     ],
     "prompt_number": 35
    },
    {
     "cell_type": "markdown",
     "metadata": {},
     "source": [
      "\u56e0\u4e3a\u6bcf\u4e2a\u503c\u6709\u552f\u4e00\u7684\u7c7b\u578b\uff0c\u6240\u4ee5\u503c\u786e\u5b9a\u7684\u65f6\u5019\uff0c\u53ef\u7528\u7684\u65b9\u6cd5\u5c31\u786e\u5b9a\u4e86\u3002\u6240\u4ee5\u65b9\u6cd5\u8c03\u7528\u53ef\u4ee5\u7b80\u5199\uff1a"
     ]
    },
    {
     "cell_type": "code",
     "collapsed": false,
     "input": [
      "ls.append('how are you')\n",
      "ls"
     ],
     "language": "python",
     "metadata": {},
     "outputs": [
      {
       "metadata": {},
       "output_type": "pyout",
       "prompt_number": 39,
       "text": [
        "['hi', 'hello', 'how are you']"
       ]
      }
     ],
     "prompt_number": 39
    },
    {
     "cell_type": "markdown",
     "metadata": {},
     "source": [
      "\u4e00\u4e2a\u51fd\u6570\u5e94\u8be5\u5c5e\u4e8e\u54ea\u4e2a\u7c7b\u578b\u6709\u65f6\u5e76\u4e0d\u592a\u660e\u786e\uff0c\u6240\u4ee5\u4e00\u6837\u7684\u51fd\u6570\u5728\u4e0d\u540c\u7684\u7f16\u7a0b\u8bed\u8a00\u4e2d\u53ef\u80fd\u662f\u4e0d\u540c\u7684\u7c7b\u578b\u7684\u65b9\u6cd5\u3002\u5b66\u4e60\u7f16\u7a0b\u7684\u4eba\u5e94\u8be5\u6ce8\u610f\uff0c\u4e0d\u8981\u592a\u7ea0\u7ed3\u4e00\u4e2a\u65b9\u6cd5\u4e3a\u4ec0\u4e48\u5c5e\u4e8e\u67d0\u4e2a\u7c7b\u578b\u800c\u4e0d\u5c5e\u4e8e\u53e6\u4e00\u4e2a\uff0c\u8fd9\u5b8c\u5168\u53d6\u51b3\u4e8e\u8be5\u8bed\u8a00\u8bbe\u8ba1\u8005\u7684\u4e2a\u4eba\u559c\u597d\u3002"
     ]
    },
    {
     "cell_type": "markdown",
     "metadata": {},
     "source": [
      "> \u6240\u6709\u53c2\u6570\u751f\u6765\u5e73\u7b49\uff0c\u4f46\u6709\u7684\u53c2\u6570\u6bd4\u522b\u7684\u53c2\u6570\u66f4\u52a0\u5e73\u7b49\u3002"
     ]
    },
    {
     "cell_type": "markdown",
     "metadata": {},
     "source": [
      "\u4e0e\u51fd\u6570\u4e00\u6837\uff0c\u7c7b\u578b\u62e5\u6709\u7684\u65b9\u6cd5\u548c\u65b9\u6cd5\u7684\u7528\u6cd5\u90fd\u53ef\u4ee5\u7528help\u67e5\u770b\u3002"
     ]
    },
    {
     "cell_type": "heading",
     "level": 2,
     "metadata": {},
     "source": [
      "\u5e93"
     ]
    },
    {
     "cell_type": "markdown",
     "metadata": {},
     "source": [
      "\u73b0\u5728\uff0c\u7edd\u5927\u591a\u6570\u7f16\u7a0b\u8bed\u8a00\u90fd\u63d0\u4f9b\u4e86\u5e93\uff08Library\uff09\u7684\u529f\u80fd\u3002\u5e93\u7684\u4f5c\u7528\u5c31\u662f\u5c06\u503c\u4f9d\u636e\u7528\u9014\u5f52\u7c7b\uff0c\u4f7f\u5f97\u7a0b\u5e8f\u7684\u5206\u4eab\u548c\u7ba1\u7406\u66f4\u52a0\u5bb9\u6613\u3002"
     ]
    },
    {
     "cell_type": "markdown",
     "metadata": {},
     "source": [
      "\u5728Python\u91cc\uff0c\u8981\u5f00\u59cb\u4f7f\u7528\u4e00\u4e2a\u5e93\uff0c\u9700\u8981\u7528__import\u58f0\u660e__\u3002"
     ]
    },
    {
     "cell_type": "markdown",
     "metadata": {},
     "source": [
      "\u6bd4\u5982\uff0cmath\u5e93\u5b9a\u4e49\u4e86\u5706\u5468\u7387pi\u548c\u81ea\u7136\u5bf9\u6570e\u3002"
     ]
    },
    {
     "cell_type": "code",
     "collapsed": false,
     "input": [
      "import math\n",
      "\n",
      "print(math.pi)\n",
      "print(math.e)"
     ],
     "language": "python",
     "metadata": {},
     "outputs": [
      {
       "output_type": "stream",
       "stream": "stdout",
       "text": [
        "3.141592653589793\n",
        "2.718281828459045\n"
       ]
      }
     ],
     "prompt_number": 40
    },
    {
     "cell_type": "markdown",
     "metadata": {},
     "source": [
      "\u8fd8\u6709\u5404\u79cd\u4e09\u89d2\u51fd\u6570\uff0c\u7b49\u7b49\u3002"
     ]
    },
    {
     "cell_type": "code",
     "collapsed": false,
     "input": [
      "math.sin(math.pi/2)"
     ],
     "language": "python",
     "metadata": {},
     "outputs": [
      {
       "metadata": {},
       "output_type": "pyout",
       "prompt_number": 41,
       "text": [
        "1.0"
       ]
      }
     ],
     "prompt_number": 41
    },
    {
     "cell_type": "markdown",
     "metadata": {},
     "source": [
      "\u4e0e\u51fd\u6570\u3001\u7c7b\u578b\u548c\u65b9\u6cd5\u4e00\u6837\uff0c\u5e93\u7684\u5e2e\u52a9\u6587\u6863\u4e5f\u53ef\u4ee5\u7528help\u67e5\u770b\u3002"
     ]
    },
    {
     "cell_type": "markdown",
     "metadata": {},
     "source": [
      "_\u7ec3\u4e60_\n",
      "\n",
      "\uff081\uff09\u5229\u7528math\u5e93\uff0c\u7f16\u5199\u4e24\u4e2a\u51fd\u6570\uff0c\u5b8c\u6210\u6781\u5750\u6807\u548c\u76f4\u89d2\u5750\u6807\u7684\u76f8\u4e92\u8f6c\u6362\u3002"
     ]
    },
    {
     "cell_type": "heading",
     "level": 2,
     "metadata": {},
     "source": [
      "\u989d\u5916\u7684\u5185\u5bb9"
     ]
    },
    {
     "cell_type": "heading",
     "level": 3,
     "metadata": {},
     "source": [
      "\u53ef\u8fed\u4ee3\u5bf9\u8c61"
     ]
    },
    {
     "cell_type": "markdown",
     "metadata": {},
     "source": [
      "\u53ef\u8fed\u4ee3\u5bf9\u8c61\uff08iterable object\uff09\u662f\u53ef\u4ee5\u7528\u5728for\u58f0\u660e\u4e2d\u7684\u503c\uff0c\u5305\u62ec\u5217\u8868\u3002\u5728Python\u4e2d\uff0c\u5e38\u5e38\u4f7f\u7528 `range` \u51fd\u6570\u6784\u9020\u53ef\u8fed\u4ee3\u5bf9\u8c61\u3002`range`\u7684\u7528\u6cd5\u7c7b\u4f3c `before` \uff0c\u9664\u4e86\u524d\u8005\u8fd4\u56derange\u7c7b\u578b\u7684\u503c\uff0c\u800c\u540e\u8005\u8fd4\u56delist\u7c7b\u578b\u7684\u503c\uff08\u53c2\u89c1<a href=\"#\u76f4\u5230\u6709\u4e00\u5929\">\u76f4\u5230\u6709\u4e00\u5929</a>\u7684\u7ec3\u4e60\uff082\uff09\uff09\u3002"
     ]
    },
    {
     "cell_type": "code",
     "collapsed": false,
     "input": [
      "s = 0\n",
      "for i in range(8):\n",
      "    s = s + i\n",
      "s"
     ],
     "language": "python",
     "metadata": {},
     "outputs": [
      {
       "metadata": {},
       "output_type": "pyout",
       "prompt_number": 1,
       "text": [
        "28"
       ]
      }
     ],
     "prompt_number": 1
    },
    {
     "cell_type": "markdown",
     "metadata": {},
     "source": [
      "\u6216\u8005\u66f4\u76f4\u89c2\u4e00\u70b9\u3002"
     ]
    },
    {
     "cell_type": "code",
     "collapsed": false,
     "input": [
      "ls = []\n",
      "for i in range(8):\n",
      "    ls.append(i)\n",
      "ls"
     ],
     "language": "python",
     "metadata": {},
     "outputs": [
      {
       "metadata": {},
       "output_type": "pyout",
       "prompt_number": 2,
       "text": [
        "[0, 1, 2, 3, 4, 5, 6, 7]"
       ]
      }
     ],
     "prompt_number": 2
    }
   ],
   "metadata": {}
  }
 ]
}